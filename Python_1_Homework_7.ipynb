{
 "cells": [
  {
   "cell_type": "code",
   "execution_count": null,
   "metadata": {},
   "outputs": [],
   "source": [
    "\"\"\" 1. Write a script that repeatedly asks the user to enter an integer until a valid integer is provided. \n",
    "    Use exception handling to catch invalid inputs and prompt the user again.\"\"\"\n",
    "\n",
    "\n",
    "while True:\n",
    "        try:\n",
    "            user_input = input(\"Enter an intiger\")\n",
    "            user_number = int(user_input)\n",
    "            print(f\"You entered the valid integer\")\n",
    "            break\n",
    "        except ValueError:\n",
    "              print(f\"Intiger is invalid\")\n",
    "\n",
    "\n"
   ]
  },
  {
   "cell_type": "code",
   "execution_count": null,
   "metadata": {},
   "outputs": [],
   "source": [
    "\"\"\" 2. Create a script that prompts the user for their first name, last name, age, and email address. \n",
    "    Store this information in a dictionary and print it out in a formatted manner.\"\"\"\n",
    "\n",
    "my_dict = {}\n",
    "keys = ['first_name', 'last_name', 'age', 'email']\n",
    "values = ['Paulina', 'Lewandowska', 31, 'paulina@gmail.com']\n",
    "\n",
    "for i in range(len(keys)):\n",
    "    my_dict[keys[i]] = values[i]\n",
    "\n",
    "print(my_dict)"
   ]
  }
 ],
 "metadata": {
  "kernelspec": {
   "display_name": "Python 3",
   "language": "python",
   "name": "python3"
  },
  "language_info": {
   "codemirror_mode": {
    "name": "ipython",
    "version": 3
   },
   "file_extension": ".py",
   "mimetype": "text/x-python",
   "name": "python",
   "nbconvert_exporter": "python",
   "pygments_lexer": "ipython3",
   "version": "3.12.5"
  }
 },
 "nbformat": 4,
 "nbformat_minor": 2
}
