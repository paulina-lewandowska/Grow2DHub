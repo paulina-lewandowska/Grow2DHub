{
 "cells": [
  {
   "cell_type": "code",
   "execution_count": 8,
   "metadata": {},
   "outputs": [
    {
     "name": "stdout",
     "output_type": "stream",
     "text": [
      "Intiger is invalid. Please enter the valid integer\n",
      "You entered the valid integer\n"
     ]
    }
   ],
   "source": [
    "\"\"\" 1. Write a script that repeatedly asks the user to enter an integer until a valid integer is provided. \n",
    "    Use exception handling to catch invalid inputs and prompt the user again.\"\"\"\n",
    "\n",
    "\n",
    "while True:\n",
    "        try:\n",
    "            user_input = int(input(\"Enter an intiger\"))\n",
    "            print(f\"You entered the valid integer\")\n",
    "            break\n",
    "        except ValueError:\n",
    "              print(f\"Intiger is invalid. Please enter the valid integer\")\n",
    "\n",
    "\n"
   ]
  },
  {
   "cell_type": "code",
   "execution_count": 5,
   "metadata": {},
   "outputs": [
    {
     "name": "stdout",
     "output_type": "stream",
     "text": [
      "First Name: Paulina\n",
      "Last Name: Lewandowska\n",
      "Age: 31\n",
      "Email: paulina@wp.pl\n"
     ]
    }
   ],
   "source": [
    "\"\"\" 2. Create a script that prompts the user for their first name, last name, age, and email address. \n",
    "    Store this information in a dictionary and print it out in a formatted manner.\"\"\"\n",
    "\n",
    "first_name = input(f\"Enter the first name\")\n",
    "last_name = input(f\"Enter the last name\")\n",
    "age = input(f\"Enter the age\")\n",
    "email = input(f\"Enter the email\")\n",
    "\n",
    "my_dict = {\"First Name\": first_name,\n",
    "    \"Last Name\": last_name,\n",
    "    \"Age\": age,\n",
    "    \"Email\": email}\n",
    "\n",
    "print(f\"First Name: {my_dict['First Name']}\")\n",
    "print(f\"Last Name: {my_dict['Last Name']}\")\n",
    "print(f\"Age: {my_dict['Age']}\")\n",
    "print(f\"Email: {my_dict['Email']}\")"
   ]
  }
 ],
 "metadata": {
  "kernelspec": {
   "display_name": "Python 3",
   "language": "python",
   "name": "python3"
  },
  "language_info": {
   "codemirror_mode": {
    "name": "ipython",
    "version": 3
   },
   "file_extension": ".py",
   "mimetype": "text/x-python",
   "name": "python",
   "nbconvert_exporter": "python",
   "pygments_lexer": "ipython3",
   "version": "3.12.5"
  }
 },
 "nbformat": 4,
 "nbformat_minor": 2
}
