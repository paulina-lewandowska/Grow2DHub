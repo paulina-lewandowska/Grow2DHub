{
 "cells": [
  {
   "cell_type": "code",
   "execution_count": 1,
   "metadata": {},
   "outputs": [
    {
     "name": "stdout",
     "output_type": "stream",
     "text": [
      "Value: 1999, type: int\n",
      "Value: Poland, type: str\n",
      "Value: 10.1, type: float\n",
      "Value: True, type: bool\n"
     ]
    }
   ],
   "source": [
    "\"\"\"Write code that takes a list of values and returns a string that lists each value \n",
    "and its type in a formatted manner. Use f-strings for formatting.\"\"\"\n",
    "\n",
    "def list_of_values(values_list):\n",
    "    result = []\n",
    "\n",
    "    for value in values_list:\n",
    "        result.append(f\"Value: {value}, type: {type(value).__name__}\")\n",
    "    return \"\\n\".join(result)\n",
    "\n",
    "values = [1999, \"Poland\", 10.10, True]\n",
    "formatted_values = list_of_values(values)\n",
    "\n",
    "print(formatted_values)\n",
    "\n",
    "\n"
   ]
  }
 ],
 "metadata": {
  "kernelspec": {
   "display_name": "Python 3",
   "language": "python",
   "name": "python3"
  },
  "language_info": {
   "codemirror_mode": {
    "name": "ipython",
    "version": 3
   },
   "file_extension": ".py",
   "mimetype": "text/x-python",
   "name": "python",
   "nbconvert_exporter": "python",
   "pygments_lexer": "ipython3",
   "version": "3.12.5"
  }
 },
 "nbformat": 4,
 "nbformat_minor": 2
}
