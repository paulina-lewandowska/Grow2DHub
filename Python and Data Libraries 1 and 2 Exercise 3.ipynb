{
 "cells": [
  {
   "cell_type": "code",
   "execution_count": 9,
   "metadata": {},
   "outputs": [
    {
     "name": "stdout",
     "output_type": "stream",
     "text": [
      "Logged activity: cycling for 60 minutes on 2024-09-01.\n",
      "Logged activity: cycling for 90 minutes on 2024-09-30.\n",
      "Logged activity: running for 45 minutes on 2024-09-20.\n",
      "Date: 2024-09-01, activity_type: cycling, duration: 60\n",
      "Date: 2024-09-30, activity_type: cycling, duration: 90\n",
      "Date: 2024-09-20, activity_type: running, duration: 45\n",
      "Total time spent on running: 45 minutes.\n",
      "Total time spent on cycling: 150 minutes.\n"
     ]
    },
    {
     "data": {
      "text/plain": [
       "150"
      ]
     },
     "execution_count": 9,
     "metadata": {},
     "output_type": "execute_result"
    }
   ],
   "source": [
    "\"\"\"Activity Class\"\"\"\n",
    "\n",
    "class Activity:\n",
    "    def __init__(self, date, activity_type, duration):\n",
    "        self.date = date\n",
    "        self.activity_type = activity_type\n",
    "        self.duration = duration\n",
    "\n",
    "    def activity_info(self):\n",
    "        return f\"Date: {self.date}, activity_type: {self.activity_type}, duration: {self.duration}\"\n",
    "\n",
    "\"\"\"FitnessTracker Class\"\"\"\n",
    "\n",
    "class FitnessTracker:\n",
    "    def __init__(self):\n",
    "        self.activities = []\n",
    "    \n",
    "    def log_activity(self, date, activity_type, duration):\n",
    "        activity = Activity(date, activity_type, duration)\n",
    "        self.activities.append(activity)\n",
    "        print (f\"Logged activity: {activity_type} for {duration} minutes on {date}.\")\n",
    "    \n",
    "    def total_duration(self, activity_type):\n",
    "        total = sum(activity.duration for activity in self.activities if activity.activity_type == activity_type)\n",
    "        print(f\"Total time spent on {activity_type}: {total} minutes.\")\n",
    "        return total\n",
    "\n",
    "    def show_activities(self):\n",
    "        if not self.activities:\n",
    "            print(\"No activities logged yet.\")\n",
    "        else:\n",
    "            for activity in self.activities:\n",
    "                print(activity.activity_info())\n",
    "\n",
    "fitness_tracker = FitnessTracker()\n",
    "\n",
    "fitness_tracker.log_activity(\"2024-09-01\", \"cycling\", 60)\n",
    "fitness_tracker.log_activity(\"2024-09-30\", \"cycling\", 90)\n",
    "fitness_tracker.log_activity(\"2024-09-20\", \"running\", 45)\n",
    "\n",
    "fitness_tracker.show_activities()\n",
    "\n",
    "fitness_tracker.total_duration(\"running\")\n",
    "\n",
    "fitness_tracker.total_duration(\"cycling\")\n",
    "    \n"
   ]
  }
 ],
 "metadata": {
  "kernelspec": {
   "display_name": "Python 3",
   "language": "python",
   "name": "python3"
  },
  "language_info": {
   "codemirror_mode": {
    "name": "ipython",
    "version": 3
   },
   "file_extension": ".py",
   "mimetype": "text/x-python",
   "name": "python",
   "nbconvert_exporter": "python",
   "pygments_lexer": "ipython3",
   "version": "3.12.5"
  }
 },
 "nbformat": 4,
 "nbformat_minor": 2
}
