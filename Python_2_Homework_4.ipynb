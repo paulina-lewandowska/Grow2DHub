{
 "cells": [
  {
   "cell_type": "code",
   "execution_count": 5,
   "metadata": {},
   "outputs": [
    {
     "name": "stdout",
     "output_type": "stream",
     "text": [
      "25-09-2024\n"
     ]
    }
   ],
   "source": [
    "\"\"\"Date Formatting\"\"\"\n",
    "\n",
    "def format_date(date_string):\n",
    "    year, month, day = date_string.split('-')\n",
    "    return f\"{day}-{month}-{year}\"\n",
    "\n",
    "date = '2024-09-25'\n",
    "\n",
    "result = format_date(date)\n",
    "print(result)\n",
    "\n",
    "\n",
    "\n"
   ]
  },
  {
   "cell_type": "code",
   "execution_count": 16,
   "metadata": {},
   "outputs": [
    {
     "name": "stdout",
     "output_type": "stream",
     "text": [
      "2024-10-15\n"
     ]
    }
   ],
   "source": [
    "\"\"\"Adding Days\"\"\"\n",
    "\n",
    "from datetime import datetime, timedelta\n",
    "\n",
    "def add_days(date_string, days):\n",
    "    date_obj = datetime.strptime(date_string, '%Y-%m-%d')\n",
    "    new_date = date_obj + timedelta(days=days)\n",
    "    return new_date.strftime('%Y-%m-%d')\n",
    "\n",
    "date_string = \"2024-09-25\"\n",
    "days = 20\n",
    "new_date = add_days(date_string, days)\n",
    "print(new_date)\n",
    "\n",
    "\n",
    "\n",
    "\n"
   ]
  },
  {
   "cell_type": "code",
   "execution_count": 27,
   "metadata": {},
   "outputs": [
    {
     "name": "stdout",
     "output_type": "stream",
     "text": [
      "225\n"
     ]
    }
   ],
   "source": [
    "\"\"\"Calculating Difference\"\"\"\n",
    "from datetime import datetime\n",
    "\n",
    "def days_between_dates(date1, date2):\n",
    "    date1_input = datetime.strptime(date1, '%Y-%m-%d')\n",
    "    date2_input = datetime.strptime(date2, '%Y-%m-%d')\n",
    "    delta = abs((date2_input - date1_input).days)\n",
    "    return delta\n",
    "\n",
    "\n",
    "date1 = '1991-10-09'\n",
    "date2 = '1991-02-26'\n",
    "\n",
    "result = days_between_dates(date1, date2)\n",
    "print(result)\n",
    "\n",
    "\n",
    "\n"
   ]
  },
  {
   "cell_type": "code",
   "execution_count": 33,
   "metadata": {},
   "outputs": [
    {
     "name": "stdout",
     "output_type": "stream",
     "text": [
      "32\n"
     ]
    }
   ],
   "source": [
    "\"\"\"Calculating Weeks\"\"\"\n",
    "from datetime import datetime\n",
    "\n",
    "def weeks_between_dates(date1, date2):\n",
    "    date1_input = datetime.strptime(date1, '%Y-%m-%d')\n",
    "    date2_input = datetime.strptime(date2, '%Y-%m-%d')\n",
    "    delta_days = abs((date2_input - date1_input).days)\n",
    "    weeks = delta_days // 7\n",
    "    return weeks\n",
    "\n",
    "date1 = '1991-10-09'\n",
    "date2 = '1991-02-26'\n",
    "\n",
    "result = weeks_between_dates(date1, date2)\n",
    "print(result)"
   ]
  },
  {
   "cell_type": "code",
   "execution_count": 36,
   "metadata": {},
   "outputs": [
    {
     "name": "stdout",
     "output_type": "stream",
     "text": [
      "Wednesday\n"
     ]
    }
   ],
   "source": [
    "\"\"\"Day of the Week\"\"\"\n",
    "\n",
    "from datetime import datetime\n",
    "\n",
    "def day_of_week(date_string):\n",
    "    date_obj = datetime.strptime(date_string, '%Y-%m-%d')\n",
    "    return date_obj.strftime('%A')\n",
    "\n",
    "date_string = \"2024-09-25\"\n",
    "result = day_of_week(date_string)\n",
    "print(result)\n"
   ]
  }
 ],
 "metadata": {
  "kernelspec": {
   "display_name": "Python 3",
   "language": "python",
   "name": "python3"
  },
  "language_info": {
   "codemirror_mode": {
    "name": "ipython",
    "version": 3
   },
   "file_extension": ".py",
   "mimetype": "text/x-python",
   "name": "python",
   "nbconvert_exporter": "python",
   "pygments_lexer": "ipython3",
   "version": "3.12.5"
  }
 },
 "nbformat": 4,
 "nbformat_minor": 2
}
