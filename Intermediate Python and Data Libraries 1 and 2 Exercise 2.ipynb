{
 "cells": [
  {
   "cell_type": "code",
   "execution_count": 2,
   "metadata": {},
   "outputs": [
    {
     "name": "stdout",
     "output_type": "stream",
     "text": [
      "   Employee_ID     Name Department  Salary\n",
      "0            1    Alice         HR   50000\n",
      "1            2      Bob         IT   60000\n",
      "2            3  Charlie         HR   55000\n",
      "3            4    David      Sales   70000\n",
      "4            5      Eva         IT   62000\n"
     ]
    }
   ],
   "source": [
    "# Sample dataset 2 - Employee Data\n",
    "\n",
    "import pandas as pd\n",
    "\n",
    "data_employee = {\n",
    "    \"Employee_ID\": [1, 2, 3, 4, 5],\n",
    "    \"Name\": [\"Alice\", \"Bob\", \"Charlie\", \"David\", \"Eva\"],\n",
    "    \"Department\": [\"HR\", \"IT\", \"HR\", \"Sales\", \"IT\"],\n",
    "    \"Salary\": [50000, 60000, 55000, 70000, 62000],\n",
    "}\n",
    "df_employee = pd.DataFrame(data_employee)\n",
    "print(df_employee)"
   ]
  },
  {
   "cell_type": "code",
   "execution_count": 4,
   "metadata": {},
   "outputs": [
    {
     "name": "stdout",
     "output_type": "stream",
     "text": [
      "   Employee_ID   Name Department  Salary\n",
      "0            1  Alice         HR   50000\n",
      "1            2    Bob         IT   60000\n",
      "3            4  David      Sales   70000\n"
     ]
    }
   ],
   "source": [
    "\"\"\"Task 1: Remove duplicate rows based on a specific column (e.g., Customer_ID).\"\"\"\n",
    "\n",
    "department_duplicates = df_employee.drop_duplicates(subset=['Department'])\n",
    "print(department_duplicates)"
   ]
  },
  {
   "cell_type": "code",
   "execution_count": 6,
   "metadata": {},
   "outputs": [],
   "source": [
    "\"\"\"Task 2: Fill missing values with the mean/median/mode of the column.\"\"\"\n",
    "\n",
    "missing_values = df_employee.fillna(df_employee['Salary'].mean())\n",
    "\n"
   ]
  },
  {
   "cell_type": "code",
   "execution_count": 13,
   "metadata": {},
   "outputs": [
    {
     "name": "stdout",
     "output_type": "stream",
     "text": [
      "         Date         City  Temperature  Rainfall\n",
      "0  2023-09-01     New York           80       0.1\n",
      "1  2023-09-02  Los Angeles           85       0.0\n",
      "2  2023-09-03     New York           82       0.2\n",
      "3  2023-09-04      Chicago           75       0.0\n",
      "4  2023-09-05  Los Angeles           88       0.0\n",
      "0   2023-09-01\n",
      "1   2023-09-02\n",
      "2   2023-09-03\n",
      "3   2023-09-04\n",
      "4   2023-09-05\n",
      "Name: Date, dtype: datetime64[ns]\n"
     ]
    }
   ],
   "source": [
    "\"\"\"Task 3: Convert a column's data type (e.g., change the Date column to datetime format).\"\"\"\n",
    "\n",
    "# Sample dataset 3 - Weather Data\n",
    "\n",
    "import pandas as pd\n",
    "\n",
    "data_weather = {\n",
    "    \"Date\": [\"2023-09-01\", \"2023-09-02\", \"2023-09-03\", \"2023-09-04\", \"2023-09-05\"],\n",
    "    \"City\": [\"New York\", \"Los Angeles\", \"New York\", \"Chicago\", \"Los Angeles\"],\n",
    "    \"Temperature\": [80, 85, 82, 75, 88],\n",
    "    \"Rainfall\": [0.1, 0.0, 0.2, 0.0, 0.0],\n",
    "}\n",
    "df_weather = pd.DataFrame(data_weather)\n",
    "print(df_weather)\n",
    "\n",
    "convert_column = pd.to_datetime(df_weather['Date'])\n",
    "print(convert_column)"
   ]
  },
  {
   "cell_type": "code",
   "execution_count": 19,
   "metadata": {},
   "outputs": [
    {
     "name": "stdout",
     "output_type": "stream",
     "text": [
      "         Date         City  Temp  Rainfall\n",
      "0  2023-09-01     New York    80       0.1\n",
      "1  2023-09-02  Los Angeles    85       0.0\n",
      "2  2023-09-03     New York    82       0.2\n",
      "3  2023-09-04      Chicago    75       0.0\n",
      "4  2023-09-05  Los Angeles    88       0.0\n"
     ]
    }
   ],
   "source": [
    "\"\"\"Task 4: Rename columns for easier readability (e.g., rename Employee_ID to ID).\"\"\"\n",
    "\n",
    "rename_column = df_weather.rename(columns ={'Temperature': 'Temp'})\n",
    "print(rename_column)"
   ]
  },
  {
   "cell_type": "code",
   "execution_count": 20,
   "metadata": {},
   "outputs": [
    {
     "name": "stdout",
     "output_type": "stream",
     "text": [
      "         Date         City  Temperature  Rainfall\n",
      "3  2023-09-04      Chicago           75       0.0\n",
      "1  2023-09-02  Los Angeles           85       0.0\n",
      "4  2023-09-05  Los Angeles           88       0.0\n",
      "0  2023-09-01     New York           80       0.1\n",
      "2  2023-09-03     New York           82       0.2\n"
     ]
    }
   ],
   "source": [
    "\"\"\"Task 5: Sort the DataFrame by a specific column (e.g., Quantity or Salary).\"\"\"\n",
    "\n",
    "df_sorted = df_weather.sort_values('City')\n",
    "print(df_sorted)"
   ]
  }
 ],
 "metadata": {
  "kernelspec": {
   "display_name": "Python 3",
   "language": "python",
   "name": "python3"
  },
  "language_info": {
   "codemirror_mode": {
    "name": "ipython",
    "version": 3
   },
   "file_extension": ".py",
   "mimetype": "text/x-python",
   "name": "python",
   "nbconvert_exporter": "python",
   "pygments_lexer": "ipython3",
   "version": "3.12.5"
  }
 },
 "nbformat": 4,
 "nbformat_minor": 2
}
