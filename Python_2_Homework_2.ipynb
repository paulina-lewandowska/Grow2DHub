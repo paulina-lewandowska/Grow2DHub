{
 "cells": [
  {
   "cell_type": "code",
   "execution_count": 2,
   "metadata": {},
   "outputs": [
    {
     "name": "stdout",
     "output_type": "stream",
     "text": [
      "ALA MA KOTA\n"
     ]
    }
   ],
   "source": [
    "\"\"\" Convert the string to uppercase.\"\"\"\n",
    "\n",
    "def to_uppercase(str):\n",
    "    uppercase_string = str.upper()\n",
    "    return uppercase_string\n",
    "\n",
    "str = \"ala ma kota\"\n",
    "result = to_uppercase(str)\n",
    "print(result)"
   ]
  },
  {
   "cell_type": "code",
   "execution_count": 3,
   "metadata": {},
   "outputs": [
    {
     "name": "stdout",
     "output_type": "stream",
     "text": [
      "Ala_ma_kota\n"
     ]
    }
   ],
   "source": [
    "\"\"\"Replace all spaces with underscores.\"\"\"\n",
    "\n",
    "def replace_spaces(str):\n",
    "    replace_with = str.replace(\" \", \"_\")\n",
    "    return replace_with\n",
    "\n",
    "str = \"Ala ma kota\"\n",
    "result = replace_spaces(str)\n",
    "print(result)"
   ]
  },
  {
   "cell_type": "code",
   "execution_count": 4,
   "metadata": {},
   "outputs": [
    {
     "name": "stdout",
     "output_type": "stream",
     "text": [
      "atok am alA\n"
     ]
    }
   ],
   "source": [
    "\"\"\" Reverse the string. \"\"\"\n",
    "\n",
    "def reverse_string(str):\n",
    "    reversed_string = str[::-1]\n",
    "    return reversed_string\n",
    "\n",
    "str = \"Ala ma kota\"\n",
    "result = reverse_string(str)\n",
    "print(result)"
   ]
  }
 ],
 "metadata": {
  "kernelspec": {
   "display_name": "Python 3",
   "language": "python",
   "name": "python3"
  },
  "language_info": {
   "codemirror_mode": {
    "name": "ipython",
    "version": 3
   },
   "file_extension": ".py",
   "mimetype": "text/x-python",
   "name": "python",
   "nbconvert_exporter": "python",
   "pygments_lexer": "ipython3",
   "version": "3.12.5"
  }
 },
 "nbformat": 4,
 "nbformat_minor": 2
}
