{
 "cells": [
  {
   "cell_type": "code",
   "execution_count": 1,
   "metadata": {},
   "outputs": [
    {
     "name": "stdout",
     "output_type": "stream",
     "text": [
      "ATOK_AM_ALA\n"
     ]
    }
   ],
   "source": [
    "def to_uppercase(s):\n",
    "    s = s.upper()\n",
    "    s = s.replace(\" \", \"_\")\n",
    "    s = s[::-1]\n",
    "    return s\n",
    "\n",
    "str = \"ala ma kota\"\n",
    "result = to_uppercase(str)\n",
    "print(result)"
   ]
  }
 ],
 "metadata": {
  "kernelspec": {
   "display_name": "Python 3",
   "language": "python",
   "name": "python3"
  },
  "language_info": {
   "codemirror_mode": {
    "name": "ipython",
    "version": 3
   },
   "file_extension": ".py",
   "mimetype": "text/x-python",
   "name": "python",
   "nbconvert_exporter": "python",
   "pygments_lexer": "ipython3",
   "version": "3.12.5"
  }
 },
 "nbformat": 4,
 "nbformat_minor": 2
}
