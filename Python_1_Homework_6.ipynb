{
 "cells": [
  {
   "cell_type": "code",
   "execution_count": 2,
   "metadata": {},
   "outputs": [
    {
     "name": "stdout",
     "output_type": "stream",
     "text": [
      "Hello, my name is Paulina and I am 31 years old.\n",
      "Hello, my name is Paulina and I am 31 years old.\n",
      "Hello, my name is Paulina and I am 31 years old.\n"
     ]
    }
   ],
   "source": [
    "\"\"\"Write code that takes a name and age as parameters and returns a formatted string such as \n",
    "\"Hello, my name is {name} and I am {age} years old.\". \n",
    "Use both old-style % formatting and the newer format() method.\"\"\"\n",
    "\n",
    "def parameters(name, age):\n",
    "    name \n",
    "    age\n",
    "    return \"Hello, my name is {name} and I am {age} years old.\"\n",
    "\n",
    "name = \"Paulina\"\n",
    "age = 31\n",
    "\n",
    "print (f\"Hello, my name is {name} and I am {age} years old.\")\n",
    "\n",
    "formatted_string_old = \"Hello, my name is %s and I am %d years old.\" % (name, age)\n",
    "print(formatted_string_old)\n",
    "\n",
    "formatted_string_new = \"Hello, my name is {} and I am {} years old.\".format(name, age)\n",
    "print(formatted_string_new)\n",
    "\n",
    "\n",
    "\n"
   ]
  }
 ],
 "metadata": {
  "kernelspec": {
   "display_name": "Python 3",
   "language": "python",
   "name": "python3"
  },
  "language_info": {
   "codemirror_mode": {
    "name": "ipython",
    "version": 3
   },
   "file_extension": ".py",
   "mimetype": "text/x-python",
   "name": "python",
   "nbconvert_exporter": "python",
   "pygments_lexer": "ipython3",
   "version": "3.12.5"
  }
 },
 "nbformat": 4,
 "nbformat_minor": 2
}
