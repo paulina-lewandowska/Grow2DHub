{
 "cells": [
  {
   "cell_type": "code",
   "execution_count": 20,
   "metadata": {},
   "outputs": [
    {
     "name": "stdout",
     "output_type": "stream",
     "text": [
      "Not possible to convert Paulina to integer.\n",
      "Not possible to convert Warszawa to integer.\n",
      "[1, 5, 22, 1, 4]\n"
     ]
    }
   ],
   "source": [
    "\"\"\"Write code that takes a list of mixed data types (integers, floats, strings, etc.) and \n",
    "converts all elements to integers. \n",
    "Handle any errors that may arise during conversion (e.g., invalid string formats).\"\"\"\n",
    "\n",
    "def convert_to_integer(mixed_data):\n",
    "    int_list=[]\n",
    "    for element in mixed_data:\n",
    "        try:\n",
    "            int_value = int(float(element))\n",
    "            int_list.append(int_value)\n",
    "        except ValueError:\n",
    "            print(f\"Not possible to convert {element} to integer.\")\n",
    "    return int_list\n",
    "\n",
    "data_list = [1,\"Paulina\", 5, \"22\", 1.1, 4.5, \"Warszawa\"]\n",
    "converted_data = convert_to_integer(data_list)\n",
    "print(converted_data)\n",
    "\n",
    "\n",
    "\n",
    "\n"
   ]
  }
 ],
 "metadata": {
  "kernelspec": {
   "display_name": "Python 3",
   "language": "python",
   "name": "python3"
  },
  "language_info": {
   "codemirror_mode": {
    "name": "ipython",
    "version": 3
   },
   "file_extension": ".py",
   "mimetype": "text/x-python",
   "name": "python",
   "nbconvert_exporter": "python",
   "pygments_lexer": "ipython3",
   "version": "3.12.5"
  }
 },
 "nbformat": 4,
 "nbformat_minor": 2
}
