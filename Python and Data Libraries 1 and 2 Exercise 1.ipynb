{
 "cells": [
  {
   "cell_type": "code",
   "execution_count": 7,
   "metadata": {},
   "outputs": [
    {
     "name": "stdout",
     "output_type": "stream",
     "text": [
      "Item: milk, price: 2.5\n"
     ]
    }
   ],
   "source": []
  },
  {
   "cell_type": "code",
   "execution_count": 12,
   "metadata": {},
   "outputs": [
    {
     "name": "stdout",
     "output_type": "stream",
     "text": [
      "Item: milk, price: 2.5\n",
      "Added 3 of Milk to the cart.\n",
      "Added 2 of Bread to the cart.\n",
      "Added 1 of Orange to the cart.\n",
      "Your cart contains:\n",
      "Milk - 3 @ 2.50 each\n",
      "Bread - 2 @ 1.50 each\n",
      "Orange - 1 @ 1.10 each\n",
      "Total Price: 11.60\n",
      "Removed 1 of Bread from the cart.\n",
      "Your cart contains:\n",
      "Milk - 3 @ 2.50 each\n",
      "Bread - 1 @ 1.50 each\n",
      "Orange - 1 @ 1.10 each\n",
      "Total Price: 10.10\n",
      "Removed all Milk from the cart.\n",
      "Your cart contains:\n",
      "Bread - 1 @ 1.50 each\n",
      "Orange - 1 @ 1.10 each\n",
      "Total Price: 2.60\n",
      "Total Price: 2.60 PLN\n"
     ]
    }
   ],
   "source": [
    "\"\"\"Item Class:\"\"\"\n",
    "\n",
    "class Item:\n",
    "    def __init__(self, name, price):\n",
    "        self.name = name\n",
    "        self.price = price\n",
    "\n",
    "    def item_info(self):\n",
    "        return f\"Item: {self.name}, price: {self.price}\"\n",
    "    \n",
    "my_item = Item(\"milk\", 2.50)\n",
    "print(my_item.item_info())\n",
    "\n",
    "\n",
    "\"\"\"Cart Class:\"\"\"\n",
    "\n",
    "class Cart:\n",
    "    def __init__(self):\n",
    "        self.items = {}\n",
    "\n",
    "    def add_item(self,item, quantity = 1):\n",
    "        if item.name in self.items:\n",
    "            self.items[item.name]['quantity'] += quantity\n",
    "        else:\n",
    "            self.items[item.name] = {'item': item, 'quantity': quantity}\n",
    "        print(f\"Added {quantity} of {item.name} to the cart.\")\n",
    "\n",
    "    def remove_item(self, item_name, quantity=1):\n",
    "        if item_name in self.items:\n",
    "            if self.items[item_name]['quantity'] > quantity:\n",
    "                self.items[item_name]['quantity'] -= quantity\n",
    "                print(f\"Removed {quantity} of {item_name} from the cart.\")\n",
    "            else:\n",
    "                del self.items[item_name]\n",
    "                print(f\"Removed all {item_name} from the cart.\")\n",
    "        else:\n",
    "            print(f\"Item {item_name} not found in the cart.\")\n",
    "\n",
    "    def total_price(self):\n",
    "        total = 0.0\n",
    "        for entry in self.items.values():\n",
    "            total += entry['item'].price * entry['quantity']\n",
    "        return total\n",
    "\n",
    "    def view_cart(self):\n",
    "        if not self.items:\n",
    "            print(\"Your cart is empty.\")\n",
    "        else:\n",
    "            print(\"Your cart contains:\")\n",
    "            for item_name, entry in self.items.items():\n",
    "                item = entry['item']\n",
    "                quantity = entry['quantity']\n",
    "                print(f\"{item_name} - {quantity} @ {item.price:.2f} each\")\n",
    "            print(f\"Total Price: {self.total_price():.2f}\")\n",
    "\n",
    "item1 = Item(\"Milk\", 2.50)\n",
    "item2 = Item(\"Bread\", 1.50)\n",
    "item3 = Item(\"Orange\", 1.10)\n",
    "\n",
    "\n",
    "cart = Cart()\n",
    "\n",
    "\n",
    "cart.add_item(item1, 3)  \n",
    "cart.add_item(item2, 2)  \n",
    "cart.add_item(item3, 1)  \n",
    "\n",
    "\n",
    "cart.view_cart()\n",
    "\n",
    "\n",
    "cart.remove_item(\"Bread\", 1)  \n",
    "cart.view_cart()\n",
    "\n",
    "\n",
    "cart.remove_item(\"Milk\", 3)\n",
    "cart.view_cart()\n",
    "\n",
    "\n",
    "print(f\"Total Price: {cart.total_price():.2f} PLN\")\n",
    "\n"
   ]
  }
 ],
 "metadata": {
  "kernelspec": {
   "display_name": "Python 3",
   "language": "python",
   "name": "python3"
  },
  "language_info": {
   "codemirror_mode": {
    "name": "ipython",
    "version": 3
   },
   "file_extension": ".py",
   "mimetype": "text/x-python",
   "name": "python",
   "nbconvert_exporter": "python",
   "pygments_lexer": "ipython3",
   "version": "3.12.5"
  }
 },
 "nbformat": 4,
 "nbformat_minor": 2
}
