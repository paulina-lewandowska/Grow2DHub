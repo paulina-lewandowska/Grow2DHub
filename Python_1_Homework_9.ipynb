{
 "cells": [
  {
   "cell_type": "code",
   "execution_count": 1,
   "metadata": {},
   "outputs": [
    {
     "name": "stdout",
     "output_type": "stream",
     "text": [
      "   1    2    3    4    5    6    7    8    9   10 \n",
      "   2    4    6    8   10   12   14   16   18   20 \n",
      "   3    6    9   12   15   18   21   24   27   30 \n",
      "   4    8   12   16   20   24   28   32   36   40 \n",
      "   5   10   15   20   25   30   35   40   45   50 \n",
      "   6   12   18   24   30   36   42   48   54   60 \n",
      "   7   14   21   28   35   42   49   56   63   70 \n",
      "   8   16   24   32   40   48   56   64   72   80 \n",
      "   9   18   27   36   45   54   63   72   81   90 \n",
      "  10   20   30   40   50   60   70   80   90  100 \n"
     ]
    }
   ],
   "source": [
    "\"\"\" 1. Write a script that prints a multiplication table for numbers 1 through 10. \n",
    "    Use nested `for` loops to generate the table and format the output neatly.\"\"\"\n",
    "\n",
    "\n",
    "for i in range(1,11):\n",
    "    for j in range(1,11):\n",
    "        print(f\"{i*j:4}\", end = \" \")\n",
    "    print()\n",
    "\n",
    "    \n",
    "\n",
    "  "
   ]
  },
  {
   "cell_type": "code",
   "execution_count": 16,
   "metadata": {},
   "outputs": [
    {
     "name": "stdout",
     "output_type": "stream",
     "text": [
      "2\n",
      "3\n",
      "5\n",
      "7\n",
      "11\n",
      "13\n",
      "17\n",
      "19\n",
      "23\n",
      "29\n",
      "31\n",
      "37\n",
      "41\n",
      "43\n",
      "47\n",
      "53\n",
      "59\n",
      "61\n",
      "67\n",
      "71\n",
      "73\n",
      "79\n",
      "83\n",
      "89\n",
      "97\n"
     ]
    }
   ],
   "source": [
    "\"\"\" 2. Write code that finds and prints all prime numbers between 1 and 100. \n",
    "    Use a `for` loop with an `if` statement to check for prime numbers.\"\"\"\n",
    "\n",
    "def is_prime_number(number):\n",
    "   if number < 2:\n",
    "     return False\n",
    "   for i in range(2, int(number ** 0.5) + 1):\n",
    "     if number % i == 0:\n",
    "       return False\n",
    "   return True\n",
    "\n",
    "def find_prime_numbers():\n",
    "  for num in range(1, 101):\n",
    "    if is_prime_number(num):\n",
    "      print(num)\n",
    "\n",
    "find_prime_numbers()\n",
    "\n",
    "\n",
    "\n",
    "\n",
    " "
   ]
  },
  {
   "cell_type": "code",
   "execution_count": 17,
   "metadata": {},
   "outputs": [
    {
     "name": "stdout",
     "output_type": "stream",
     "text": [
      "[4, 16, 36, 64, 100, 144, 196, 256, 324, 400]\n"
     ]
    }
   ],
   "source": [
    "\"\"\" 3. Write a list comprehension to generate a list of squares for even numbers between 1 and 20. \n",
    "    Print the resulting list.\"\"\"\n",
    "\n",
    "squers_even_number = [x**2 for x in range (1,21)if x % 2 == 0]\n",
    "print(squers_even_number)"
   ]
  }
 ],
 "metadata": {
  "kernelspec": {
   "display_name": "Python 3",
   "language": "python",
   "name": "python3"
  },
  "language_info": {
   "codemirror_mode": {
    "name": "ipython",
    "version": 3
   },
   "file_extension": ".py",
   "mimetype": "text/x-python",
   "name": "python",
   "nbconvert_exporter": "python",
   "pygments_lexer": "ipython3",
   "version": "3.12.5"
  }
 },
 "nbformat": 4,
 "nbformat_minor": 2
}
