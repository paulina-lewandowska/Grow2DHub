{
 "cells": [
  {
   "cell_type": "code",
   "execution_count": 8,
   "metadata": {},
   "outputs": [
    {
     "name": "stdout",
     "output_type": "stream",
     "text": [
      " Most common word is: kota\n"
     ]
    }
   ],
   "source": [
    "\"\"\"Most Common Word\"\"\"\n",
    "\n",
    "from collections import Counter \n",
    "\n",
    "def most_common_word(s):\n",
    "    words = s.split()\n",
    "    words_count = Counter(words)\n",
    "    most_common = words_count.most_common(1)[0][0]\n",
    "    return most_common\n",
    "\n",
    "s = \"Ala ma kota kota kota\"\n",
    "print(f\" Most common word is: {most_common_word(s)}\")\n",
    "\n"
   ]
  },
  {
   "cell_type": "code",
   "execution_count": 9,
   "metadata": {},
   "outputs": [
    {
     "name": "stdout",
     "output_type": "stream",
     "text": [
      "4\n"
     ]
    }
   ],
   "source": [
    "\"\"\"Longest Word Length\"\"\"\n",
    "\n",
    "def longest_word_length(s):\n",
    "    words = s.split()\n",
    "    longest_length = max(len(word) for word in words)\n",
    "    return longest_length\n",
    "\n",
    "s= \"Ala ma kota\"\n",
    "result = longest_word_length(s)\n",
    "print(result)\n"
   ]
  },
  {
   "cell_type": "code",
   "execution_count": 10,
   "metadata": {},
   "outputs": [
    {
     "name": "stdout",
     "output_type": "stream",
     "text": [
      "['Ala', 'ma', 'kota']\n"
     ]
    }
   ],
   "source": [
    "\"\"\"Split Words\"\"\"\n",
    "\n",
    "def split_words(s):\n",
    "    return s.split()\n",
    "\n",
    "s = \"Ala ma kota\"\n",
    "result = split_words(s)\n",
    "print(result)\n",
    "          "
   ]
  },
  {
   "cell_type": "code",
   "execution_count": 12,
   "metadata": {},
   "outputs": [
    {
     "name": "stdout",
     "output_type": "stream",
     "text": [
      "{'A': 4, 'L': 1, ' ': 2, 'M': 1, 'K': 1, 'O': 1, 'T': 1}\n"
     ]
    }
   ],
   "source": [
    "\"\"\"Letter Count\"\"\"\n",
    "\n",
    "from collections import Counter\n",
    "\n",
    "def letter_count(s):\n",
    "    return dict(Counter(s))\n",
    "\n",
    "s = \"ALA MA KOTA\"\n",
    "result = letter_count(s)\n",
    "print(result)"
   ]
  },
  {
   "cell_type": "code",
   "execution_count": 13,
   "metadata": {},
   "outputs": [
    {
     "name": "stdout",
     "output_type": "stream",
     "text": [
      "Ala kota\n"
     ]
    }
   ],
   "source": [
    "\"\"\"Removing a Word\"\"\"\n",
    "\n",
    "def remove_word(s, word):\n",
    "    updated_words = [w for w in s.split() if w != word]\n",
    "    return ' '.join(updated_words)\n",
    "\n",
    "s = \"Ala ma kota\"\n",
    "word = \"ma\"\n",
    "result = remove_word(s, word)\n",
    "print(result)"
   ]
  }
 ],
 "metadata": {
  "kernelspec": {
   "display_name": "Python 3",
   "language": "python",
   "name": "python3"
  },
  "language_info": {
   "codemirror_mode": {
    "name": "ipython",
    "version": 3
   },
   "file_extension": ".py",
   "mimetype": "text/x-python",
   "name": "python",
   "nbconvert_exporter": "python",
   "pygments_lexer": "ipython3",
   "version": "3.12.5"
  }
 },
 "nbformat": 4,
 "nbformat_minor": 2
}
