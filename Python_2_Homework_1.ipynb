{
 "cells": [
  {
   "cell_type": "code",
   "execution_count": 19,
   "metadata": {},
   "outputs": [
    {
     "name": "stdout",
     "output_type": "stream",
     "text": [
      "DEBUG: write_greeting called with greeting=hi, name=anna\n",
      "DEBUG: result of write_greeting is hi anna\n",
      "hi anna\n"
     ]
    }
   ],
   "source": [
    "def write_greeting (greeting, name):\n",
    "\n",
    "    \"\"\" Adds two strings together.\n",
    "\n",
    "    This function returns the greeting and name string.\n",
    "\n",
    "    Parameters:\n",
    "    greeting - string or char\n",
    "    name - string    \n",
    "    Returns:\n",
    "    string: Two strigs added in one \"\"\"\n",
    "\n",
    "    result = greeting + \" \" + name\n",
    "    print(f\"DEBUG: write_greeting called with greeting={greeting}, name={name}\")\n",
    "    result = greeting + \" \" + name\n",
    "    print(f\"DEBUG: result of write_greeting is {result}\")\n",
    "    return result\n",
    "\n",
    "greeting = input(\"Enter the greeting\")\n",
    "name = input(\"Enter the name\")\n",
    "result = write_greeting(greeting, name)\n",
    "print(result)\n"
   ]
  },
  {
   "cell_type": "code",
   "execution_count": 21,
   "metadata": {},
   "outputs": [
    {
     "name": "stdout",
     "output_type": "stream",
     "text": [
      "50\n"
     ]
    }
   ],
   "source": [
    "def multiply(a, b):\n",
    "    \"\"\"\n",
    "    Multiplies two numbers.\n",
    "\n",
    "    Args:\n",
    "        a (int, float): The first number to multiply.\n",
    "        b (int, float): The second number to multiply.\n",
    "\n",
    "    Returns:\n",
    "        int, float: The product of the two numbers.\n",
    "    \"\"\"\n",
    "    return a * b\n",
    "\n",
    "a = 5\n",
    "b = 10\n",
    "result = multiply(a, b)\n",
    "print(result)"
   ]
  },
  {
   "cell_type": "code",
   "execution_count": 22,
   "metadata": {},
   "outputs": [
    {
     "name": "stdout",
     "output_type": "stream",
     "text": [
      "0\n"
     ]
    }
   ],
   "source": [
    "def find_min(lst):\n",
    "    \"\"\"\n",
    "    Finds the minimum value in a list.\n",
    "\n",
    "    Parameters:\n",
    "    lst (list of int or float): The list of numbers.\n",
    "    \n",
    "    Returns:\n",
    "    int or float: The minimum number in the list.\n",
    "    \"\"\"\n",
    "    return min(lst)\n",
    "\n",
    "lst = [0, 1, 2, 3, 4, 5]\n",
    "result = find_min(lst)\n",
    "print(result)"
   ]
  }
 ],
 "metadata": {
  "kernelspec": {
   "display_name": "Python 3",
   "language": "python",
   "name": "python3"
  },
  "language_info": {
   "codemirror_mode": {
    "name": "ipython",
    "version": 3
   },
   "file_extension": ".py",
   "mimetype": "text/x-python",
   "name": "python",
   "nbconvert_exporter": "python",
   "pygments_lexer": "ipython3",
   "version": "3.12.5"
  }
 },
 "nbformat": 4,
 "nbformat_minor": 2
}
