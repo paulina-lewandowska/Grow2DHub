{
 "cells": [
  {
   "cell_type": "code",
   "execution_count": 4,
   "metadata": {},
   "outputs": [
    {
     "name": "stdout",
     "output_type": "stream",
     "text": [
      "Mix of positive and negative\n"
     ]
    }
   ],
   "source": [
    "\"\"\"Write code that takes three integers and returns a message based on the following logic:\n",
    "    - Return `\"All positive\"` if all three integers are positive.\n",
    "    - Return `\"Contains negative\"` if at least one integer is negative.\n",
    "    - Return `\"Mix of positive and negative\"` if the integers include both positive and negative values.\n",
    "Create code that demonstrates the short-circuit behavior of logical operators. For example, \n",
    "use the `and` operator with a condition that evaluates to `False` and see if the second condition is evaluated.\"\"\"\n",
    "\n",
    "num1=float(input(\"Enter an intiger one\"))\n",
    "num2=float(input(\"Enter an intiger two\"))\n",
    "num3=float(input(\"Enter an intiger three\"))\n",
    "if num1 and num2 and num3 > 0:\n",
    "    print (\"All positive\")\n",
    "elif num1 and num2 and num3 < 0:\n",
    "    print(\"Contains negative\")\n",
    "else: \n",
    "    print(\"Mix of positive and negative\")"
   ]
  }
 ],
 "metadata": {
  "kernelspec": {
   "display_name": "Python 3",
   "language": "python",
   "name": "python3"
  },
  "language_info": {
   "codemirror_mode": {
    "name": "ipython",
    "version": 3
   },
   "file_extension": ".py",
   "mimetype": "text/x-python",
   "name": "python",
   "nbconvert_exporter": "python",
   "pygments_lexer": "ipython3",
   "version": "3.12.5"
  }
 },
 "nbformat": 4,
 "nbformat_minor": 2
}
