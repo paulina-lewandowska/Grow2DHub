{
 "cells": [
  {
   "cell_type": "code",
   "execution_count": 1,
   "metadata": {},
   "outputs": [
    {
     "name": "stdout",
     "output_type": "stream",
     "text": [
      "[1, 2, 3, 4, 5, 9, 10]\n"
     ]
    }
   ],
   "source": [
    "\"\"\"Sorting\"\"\"\n",
    "\n",
    "def sort_list(lst):\n",
    "    return sorted(lst)\n",
    "    \n",
    "\n",
    "my_list = [1, 3, 2, 5, 4, 10, 9]\n",
    "result = sort_list(my_list)\n",
    "print(result)"
   ]
  },
  {
   "cell_type": "code",
   "execution_count": 2,
   "metadata": {},
   "outputs": [
    {
     "name": "stdout",
     "output_type": "stream",
     "text": [
      "True\n"
     ]
    }
   ],
   "source": [
    "\"\"\"Searching\"\"\"\n",
    "import itertools\n",
    "\n",
    "def find_element(lst, target):\n",
    "    return target in lst\n",
    "\n",
    "lst = [1, 2, 3, 4, 5, 6]\n",
    "target = 3\n",
    "\n",
    "result = find_element(lst, target)\n",
    "print(result)\n"
   ]
  },
  {
   "cell_type": "code",
   "execution_count": 4,
   "metadata": {},
   "outputs": [
    {
     "name": "stdout",
     "output_type": "stream",
     "text": [
      "False\n"
     ]
    }
   ],
   "source": [
    "\"\"\"Combined Function\"\"\"\n",
    "\n",
    "def sort_and_find(lst, target):\n",
    "    return target in sorted(lst)\n",
    "\n",
    "lst = [1, 3, 5, 3, 8, 6, 2]\n",
    "target = 10\n",
    "\n",
    "result = sort_and_find(lst, target)\n",
    "print(result)"
   ]
  },
  {
   "cell_type": "code",
   "execution_count": 5,
   "metadata": {},
   "outputs": [
    {
     "name": "stdout",
     "output_type": "stream",
     "text": [
      "[1, 2, 3, 4, 5, 6]\n"
     ]
    }
   ],
   "source": [
    "\"\"\"Inserting an Element\"\"\"\n",
    "\n",
    "def insert_element(lst, element):\n",
    "   lst.append(element)\n",
    "   return lst\n",
    "\n",
    "lst = [1, 2, 3, 4, 5]\n",
    "element = 6\n",
    "\n",
    "result = insert_element(lst, element)\n",
    "print(result)\n",
    "\n"
   ]
  },
  {
   "cell_type": "code",
   "execution_count": 7,
   "metadata": {},
   "outputs": [
    {
     "name": "stdout",
     "output_type": "stream",
     "text": [
      "False\n"
     ]
    }
   ],
   "source": [
    "\"\"\"Removing an Element \"\"\"\n",
    "\n",
    "def remove_element(lst, element):\n",
    "    if element not in lst:\n",
    "        return False\n",
    "    else:\n",
    "        lst.remove(element)\n",
    "    return lst\n",
    "       \n",
    "\n",
    "lst = ['apple', 'grapes', 'banana', 'orange']\n",
    "element = 'mandarine'\n",
    "\n",
    "result = remove_element(lst, element)\n",
    "print(result)\n",
    "\n",
    "\n",
    "\n",
    "\n"
   ]
  }
 ],
 "metadata": {
  "kernelspec": {
   "display_name": "Python 3",
   "language": "python",
   "name": "python3"
  },
  "language_info": {
   "codemirror_mode": {
    "name": "ipython",
    "version": 3
   },
   "file_extension": ".py",
   "mimetype": "text/x-python",
   "name": "python",
   "nbconvert_exporter": "python",
   "pygments_lexer": "ipython3",
   "version": "3.12.5"
  }
 },
 "nbformat": 4,
 "nbformat_minor": 2
}
