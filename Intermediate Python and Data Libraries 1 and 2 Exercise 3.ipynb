{
 "cells": [
  {
   "cell_type": "code",
   "execution_count": 1,
   "metadata": {},
   "outputs": [],
   "source": [
    "\"\"\"Task 1: Merge two DataFrames on a common column (e.g., Customer_ID in sales and orders data).\"\"\"\n",
    "\n",
    "import pandas as pd"
   ]
  },
  {
   "cell_type": "code",
   "execution_count": 3,
   "metadata": {},
   "outputs": [
    {
     "name": "stdout",
     "output_type": "stream",
     "text": [
      "         Date Product  Quantity  Price  Customer_ID\n",
      "0  2023-01-01       A        10    100          101\n",
      "1  2023-01-02       B         5    200          102\n",
      "2  2023-01-03       A         8    100          103\n",
      "3  2023-01-04       C         6    300          104\n",
      "4  2023-01-05       B         7    200          101\n"
     ]
    }
   ],
   "source": [
    "# Sample dataset 1 - Sales Data\n",
    "data_sales = {\n",
    "    \"Date\": [\"2023-01-01\", \"2023-01-02\", \"2023-01-03\", \"2023-01-04\", \"2023-01-05\"],\n",
    "    \"Product\": [\"A\", \"B\", \"A\", \"C\", \"B\"],\n",
    "    \"Quantity\": [10, 5, 8, 6, 7],\n",
    "    \"Price\": [100, 200, 100, 300, 200],\n",
    "    \"Customer_ID\": [101, 102, 103, 104, 101],\n",
    "}\n",
    "df_sales = pd.DataFrame(data_sales)\n",
    "print(df_sales)"
   ]
  },
  {
   "cell_type": "code",
   "execution_count": 2,
   "metadata": {},
   "outputs": [
    {
     "name": "stdout",
     "output_type": "stream",
     "text": [
      "   Order_ID  Customer_ID  Order_Amount  Order_Date\n",
      "0      1001          101           150  2023-07-01\n",
      "1      1002          102           200  2023-07-02\n",
      "2      1003          103           175  2023-07-03\n",
      "3      1004          104           220  2023-07-04\n",
      "4      1005          105           300  2023-07-05\n"
     ]
    }
   ],
   "source": [
    "# Sample dataset 4 - Orders Data\n",
    "data_orders = {\n",
    "    \"Order_ID\": [1001, 1002, 1003, 1004, 1005],\n",
    "    \"Customer_ID\": [101, 102, 103, 104, 105],\n",
    "    \"Order_Amount\": [150, 200, 175, 220, 300],\n",
    "    \"Order_Date\": [\n",
    "        \"2023-07-01\",\n",
    "        \"2023-07-02\",\n",
    "        \"2023-07-03\",\n",
    "        \"2023-07-04\",\n",
    "        \"2023-07-05\",\n",
    "    ],\n",
    "}\n",
    "df_orders = pd.DataFrame(data_orders)\n",
    "print(df_orders)"
   ]
  },
  {
   "cell_type": "code",
   "execution_count": 4,
   "metadata": {},
   "outputs": [
    {
     "name": "stdout",
     "output_type": "stream",
     "text": [
      "         Date Product  Quantity  Price  Customer_ID  Order_ID  Order_Amount  \\\n",
      "0  2023-01-01       A        10    100          101      1001           150   \n",
      "1  2023-01-02       B         5    200          102      1002           200   \n",
      "2  2023-01-03       A         8    100          103      1003           175   \n",
      "3  2023-01-04       C         6    300          104      1004           220   \n",
      "4  2023-01-05       B         7    200          101      1001           150   \n",
      "\n",
      "   Order_Date  \n",
      "0  2023-07-01  \n",
      "1  2023-07-02  \n",
      "2  2023-07-03  \n",
      "3  2023-07-04  \n",
      "4  2023-07-01  \n"
     ]
    }
   ],
   "source": [
    "merged_inner = pd.merge(df_sales, df_orders, on='Customer_ID', how='inner')\n",
    "print(merged_inner)"
   ]
  },
  {
   "cell_type": "code",
   "execution_count": 5,
   "metadata": {},
   "outputs": [
    {
     "name": "stdout",
     "output_type": "stream",
     "text": [
      "   Order_ID  Customer_ID  Order_Amount  Order_Date\n",
      "0      1001          101           150  2023-07-01\n",
      "1      1002          102           200  2023-07-02\n",
      "2      1003          103           175  2023-07-03\n",
      "3      1004          104           220  2023-07-04\n",
      "4      1005          105           300  2023-07-05\n"
     ]
    }
   ],
   "source": [
    "\"\"\"Task 2: Handle missing values that arise from a merge.\"\"\",\n",
    "\n",
    "missing_values = df_orders.fillna(0)\n",
    "print(missing_values)"
   ]
  },
  {
   "cell_type": "code",
   "execution_count": 6,
   "metadata": {},
   "outputs": [
    {
     "name": "stdout",
     "output_type": "stream",
     "text": [
      "   Order_ID  Customer_ID  Order_Amount  Order_Date        Date Product  \\\n",
      "0    1001.0          101         150.0  2023-07-01         NaN     NaN   \n",
      "1    1002.0          102         200.0  2023-07-02         NaN     NaN   \n",
      "2    1003.0          103         175.0  2023-07-03         NaN     NaN   \n",
      "3    1004.0          104         220.0  2023-07-04         NaN     NaN   \n",
      "4    1005.0          105         300.0  2023-07-05         NaN     NaN   \n",
      "5       NaN          101           NaN         NaN  2023-01-01       A   \n",
      "6       NaN          102           NaN         NaN  2023-01-02       B   \n",
      "7       NaN          103           NaN         NaN  2023-01-03       A   \n",
      "8       NaN          104           NaN         NaN  2023-01-04       C   \n",
      "9       NaN          101           NaN         NaN  2023-01-05       B   \n",
      "\n",
      "   Quantity  Price  \n",
      "0       NaN    NaN  \n",
      "1       NaN    NaN  \n",
      "2       NaN    NaN  \n",
      "3       NaN    NaN  \n",
      "4       NaN    NaN  \n",
      "5      10.0  100.0  \n",
      "6       5.0  200.0  \n",
      "7       8.0  100.0  \n",
      "8       6.0  300.0  \n",
      "9       7.0  200.0  \n"
     ]
    }
   ],
   "source": [
    "\"\"\"Task 3: Concatenate multiple DataFrames along rows or columns.\"\"\"\n",
    "\n",
    "combined = pd.concat([df_orders, df_sales], ignore_index=True)\n",
    "print(combined)"
   ]
  },
  {
   "cell_type": "code",
   "execution_count": 10,
   "metadata": {},
   "outputs": [
    {
     "name": "stdout",
     "output_type": "stream",
     "text": [
      "         Date Product  Quantity  Price  Customer_ID\n",
      "0  2023-01-01       A        10    100          101\n",
      "1  2023-01-02       B         5    200          102\n",
      "2  2023-01-03       A         8    100          103\n",
      "3  2023-01-04       C         6    300          104\n",
      "4  2023-01-05       B         7    200          101\n",
      "Product      A  B  C\n",
      "Date                \n",
      "2023-01-01  10  0  0\n",
      "2023-01-02   0  5  0\n",
      "2023-01-03   8  0  0\n",
      "2023-01-04   0  0  6\n",
      "2023-01-05   0  7  0\n"
     ]
    }
   ],
   "source": [
    "\"\"\"Task 4: Use pivot_table to summarize data (e.g., showing total Quantity by Product and Date).\"\"\"\n",
    "\n",
    "import pandas as pd\n",
    "\n",
    "# Sample dataset 1 - Sales Data\n",
    "data_sales = {\n",
    "    \"Date\": [\"2023-01-01\", \"2023-01-02\", \"2023-01-03\", \"2023-01-04\", \"2023-01-05\"],\n",
    "    \"Product\": [\"A\", \"B\", \"A\", \"C\", \"B\"],\n",
    "    \"Quantity\": [10, 5, 8, 6, 7],\n",
    "    \"Price\": [100, 200, 100, 300, 200],\n",
    "    \"Customer_ID\": [101, 102, 103, 104, 101],\n",
    "}\n",
    "df_sales = pd.DataFrame(data_sales)\n",
    "print(df_sales)\n",
    "\n",
    "pivot_table = pd.pivot_table(df_sales, values = 'Quantity', index = 'Date', columns = 'Product', aggfunc = 'sum', fill_value = 0)\n",
    "print(pivot_table)"
   ]
  }
 ],
 "metadata": {
  "kernelspec": {
   "display_name": "Python 3",
   "language": "python",
   "name": "python3"
  },
  "language_info": {
   "codemirror_mode": {
    "name": "ipython",
    "version": 3
   },
   "file_extension": ".py",
   "mimetype": "text/x-python",
   "name": "python",
   "nbconvert_exporter": "python",
   "pygments_lexer": "ipython3",
   "version": "3.12.5"
  }
 },
 "nbformat": 4,
 "nbformat_minor": 2
}
