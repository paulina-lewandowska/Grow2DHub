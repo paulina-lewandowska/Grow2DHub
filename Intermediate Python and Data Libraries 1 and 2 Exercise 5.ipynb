{
 "cells": [
  {
   "cell_type": "code",
   "execution_count": 3,
   "metadata": {},
   "outputs": [
    {
     "name": "stdout",
     "output_type": "stream",
     "text": [
      "      Month  Income  Expense  Profit\n",
      "0   January   10000     5000    5000\n",
      "1  February   15000     7000    8000\n",
      "2     March   20000     9000   11000\n",
      "3     April   13000     4000    9000\n",
      "4       May   18000     8000   10000\n"
     ]
    }
   ],
   "source": [
    "\"\"\"Task 1: Apply custom functions to columns using apply or map (e.g., calculate profit margin).\"\"\"\n",
    "\n",
    "import pandas as pd\n",
    "\n",
    "# Sample dataset 5 - Financial Data\n",
    "data_finance = {\n",
    "    \"Month\": [\"January\", \"February\", \"March\", \"April\", \"May\"],\n",
    "    \"Income\": [10000, 15000, 20000, 13000, 18000],\n",
    "    \"Expense\": [5000, 7000, 9000, 4000, 8000],\n",
    "    \"Profit\": [5000, 8000, 11000, 9000, 10000],\n",
    "}\n",
    "df_finance = pd.DataFrame(data_finance)\n",
    "print(df_finance)"
   ]
  },
  {
   "cell_type": "code",
   "execution_count": 8,
   "metadata": {},
   "outputs": [
    {
     "name": "stdout",
     "output_type": "stream",
     "text": [
      "      Month  Income  Expense  Profit  Profit_Margin\n",
      "0   January   10000     5000    5000      50.000000\n",
      "1  February   15000     7000    8000      53.333333\n",
      "2     March   20000     9000   11000      55.000000\n",
      "3     April   13000     4000    9000      69.230769\n",
      "4       May   18000     8000   10000      55.555556\n"
     ]
    }
   ],
   "source": [
    "def calculate_profit_margin(row):\n",
    "    return (row['Profit'] / row['Income']) * 100\n",
    "\n",
    "df_finance['Profit_Margin'] = df_finance.apply(calculate_profit_margin, axis=1)\n",
    "\n",
    "print(df_finance)"
   ]
  },
  {
   "cell_type": "code",
   "execution_count": 13,
   "metadata": {},
   "outputs": [
    {
     "name": "stdout",
     "output_type": "stream",
     "text": [
      "          Income  Expense   Profit  Profit_Margin\n",
      "Month                                            \n",
      "April      13000     4000   9000.0      69.230769\n",
      "February   15000     7000   8000.0      53.333333\n",
      "January    10000     5000   5000.0      50.000000\n",
      "March      20000     9000  11000.0      55.000000\n",
      "May        18000     8000  10000.0      55.555556\n"
     ]
    }
   ],
   "source": [
    "\"\"\"Task 2: Use .groupby and .agg to perform multiple aggregations on grouped data.\"\"\"\n",
    "\n",
    "aggregated_data = df_finance.groupby('Month').agg({\n",
    "    'Income': 'sum',           \n",
    "    'Expense': 'sum', \n",
    "    'Profit': 'mean',           \n",
    "    'Profit_Margin': 'mean'      \n",
    "})\n",
    "\n",
    "print(aggregated_data)"
   ]
  },
  {
   "cell_type": "code",
   "execution_count": 17,
   "metadata": {},
   "outputs": [
    {
     "name": "stdout",
     "output_type": "stream",
     "text": [
      "         Date Product  Quantity  Price  Customer_ID\n",
      "0  2023-01-01       A        10    100          101\n",
      "1  2023-01-02       B         5    200          102\n",
      "2  2023-01-03       A         8    100          103\n",
      "3  2023-01-04       C         6    300          104\n",
      "4  2023-01-05       B         7    200          101\n"
     ]
    }
   ],
   "source": [
    "\"\"\"Task 3: Create new columns based on existing columns (e.g., create a Total_Sales column as Quantity * Price).\"\"\"\n",
    "\n",
    "data_sales = {\n",
    "    \"Date\": [\"2023-01-01\", \"2023-01-02\", \"2023-01-03\", \"2023-01-04\", \"2023-01-05\"],\n",
    "    \"Product\": [\"A\", \"B\", \"A\", \"C\", \"B\"],\n",
    "    \"Quantity\": [10, 5, 8, 6, 7],\n",
    "    \"Price\": [100, 200, 100, 300, 200],\n",
    "    \"Customer_ID\": [101, 102, 103, 104, 101],\n",
    "}\n",
    "df_sales = pd.DataFrame(data_sales)\n",
    "\n",
    "print(df_sales)\n"
   ]
  },
  {
   "cell_type": "code",
   "execution_count": 20,
   "metadata": {},
   "outputs": [
    {
     "name": "stdout",
     "output_type": "stream",
     "text": [
      "         Date Product  Quantity  Price  Customer_ID  Total_Sales\n",
      "0  2023-01-01       A        10    100          101         1000\n",
      "1  2023-01-02       B         5    200          102         1000\n",
      "2  2023-01-03       A         8    100          103          800\n",
      "3  2023-01-04       C         6    300          104         1800\n",
      "4  2023-01-05       B         7    200          101         1400\n"
     ]
    }
   ],
   "source": [
    "df_sales['Total_Sales'] = df_sales['Quantity'] * df_sales['Price'] \n",
    "\n",
    "print(df_sales)"
   ]
  },
  {
   "cell_type": "code",
   "execution_count": 25,
   "metadata": {},
   "outputs": [
    {
     "name": "stdout",
     "output_type": "stream",
     "text": [
      "         Date Product  Customer_ID      Measure  Value\n",
      "0  2023-01-01       A          101     Quantity     10\n",
      "1  2023-01-02       B          102     Quantity      5\n",
      "2  2023-01-03       A          103     Quantity      8\n",
      "3  2023-01-04       C          104     Quantity      6\n",
      "4  2023-01-05       B          101     Quantity      7\n",
      "5  2023-01-01       A          101  Total_Sales   1000\n",
      "6  2023-01-02       B          102  Total_Sales   1000\n",
      "7  2023-01-03       A          103  Total_Sales    800\n",
      "8  2023-01-04       C          104  Total_Sales   1800\n",
      "9  2023-01-05       B          101  Total_Sales   1400\n"
     ]
    }
   ],
   "source": [
    "\"\"\"Task 4: Reshape the DataFrame using .melt() or .pivot().\"\"\"\n",
    "\n",
    "df_melted = pd.melt(df_sales, id_vars=[\"Date\", \"Product\", \"Customer_ID\"], \n",
    "                    value_vars=[\"Quantity\", \"Total_Sales\"],\n",
    "                    var_name=\"Measure\", value_name=\"Value\")\n",
    "\n",
    "print(df_melted)"
   ]
  },
  {
   "cell_type": "code",
   "execution_count": 26,
   "metadata": {},
   "outputs": [
    {
     "name": "stdout",
     "output_type": "stream",
     "text": [
      "Product          A       B       C\n",
      "Date                              \n",
      "2023-01-01  1000.0     NaN     NaN\n",
      "2023-01-02     NaN  1000.0     NaN\n",
      "2023-01-03   800.0     NaN     NaN\n",
      "2023-01-04     NaN     NaN  1800.0\n",
      "2023-01-05     NaN  1400.0     NaN\n"
     ]
    }
   ],
   "source": [
    "pivot_table = df_sales.pivot(index=\"Date\", columns=\"Product\", values=\"Total_Sales\")\n",
    "\n",
    "print(pivot_table)"
   ]
  },
  {
   "cell_type": "code",
   "execution_count": 33,
   "metadata": {},
   "outputs": [
    {
     "name": "stdout",
     "output_type": "stream",
     "text": [
      "      Month  Income  Expense  Profit\n",
      "0   January   10000     5000    5000\n",
      "1  February   15000     7000    8000\n",
      "2     March   20000     9000   11000\n",
      "3     April   13000     4000    9000\n",
      "4       May   18000     8000   10000\n"
     ]
    }
   ],
   "source": [
    "\"\"\"Task 5: Use .rolling() and .expanding() to perform moving window calculations on time series data (e.g., rolling mean of Income).\"\"\"\n",
    "\n",
    "data_finance = {\n",
    "    \"Month\": [\"January\", \"February\", \"March\", \"April\", \"May\"],\n",
    "    \"Income\": [10000, 15000, 20000, 13000, 18000],\n",
    "    \"Expense\": [5000, 7000, 9000, 4000, 8000],\n",
    "    \"Profit\": [5000, 8000, 11000, 9000, 10000],\n",
    "}\n",
    "df_finance = pd.DataFrame(data_finance)\n",
    "print(df_finance)\n"
   ]
  },
  {
   "cell_type": "code",
   "execution_count": 34,
   "metadata": {},
   "outputs": [
    {
     "name": "stdout",
     "output_type": "stream",
     "text": [
      "      Month  Income  Expense  Profit  Income_Rolling_Mean\n",
      "0   January   10000     5000    5000                  NaN\n",
      "1  February   15000     7000    8000                  NaN\n",
      "2     March   20000     9000   11000              15000.0\n",
      "3     April   13000     4000    9000              16000.0\n",
      "4       May   18000     8000   10000              17000.0\n"
     ]
    }
   ],
   "source": [
    "df_finance['Income_Rolling_Mean'] = df_finance['Income'].rolling(window=3).mean()\n",
    "\n",
    "print(df_finance)"
   ]
  },
  {
   "cell_type": "code",
   "execution_count": 35,
   "metadata": {},
   "outputs": [
    {
     "name": "stdout",
     "output_type": "stream",
     "text": [
      "      Month  Income  Expense  Profit  Income_Rolling_Mean  \\\n",
      "0   January   10000     5000    5000                  NaN   \n",
      "1  February   15000     7000    8000                  NaN   \n",
      "2     March   20000     9000   11000              15000.0   \n",
      "3     April   13000     4000    9000              16000.0   \n",
      "4       May   18000     8000   10000              17000.0   \n",
      "\n",
      "   Income_Expanding_Mean  \n",
      "0                10000.0  \n",
      "1                12500.0  \n",
      "2                15000.0  \n",
      "3                14500.0  \n",
      "4                15200.0  \n"
     ]
    }
   ],
   "source": [
    "df_finance['Income_Expanding_Mean'] = df_finance['Income'].expanding().mean()\n",
    "\n",
    "print(df_finance)"
   ]
  }
 ],
 "metadata": {
  "kernelspec": {
   "display_name": "Python 3",
   "language": "python",
   "name": "python3"
  },
  "language_info": {
   "codemirror_mode": {
    "name": "ipython",
    "version": 3
   },
   "file_extension": ".py",
   "mimetype": "text/x-python",
   "name": "python",
   "nbconvert_exporter": "python",
   "pygments_lexer": "ipython3",
   "version": "3.12.5"
  }
 },
 "nbformat": 4,
 "nbformat_minor": 2
}
