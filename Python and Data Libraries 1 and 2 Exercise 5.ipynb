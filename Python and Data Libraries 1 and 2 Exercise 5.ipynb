{
 "cells": [
  {
   "cell_type": "code",
   "execution_count": 4,
   "metadata": {},
   "outputs": [
    {
     "name": "stdout",
     "output_type": "stream",
     "text": [
      "Event 'WBS' added successfully.\n",
      "Event 'Meeting' added successfully.\n",
      "Conflict: An event is already scheduled on 2024-10-02 at 13:00.\n"
     ]
    }
   ],
   "source": [
    "\"\"\"Event Class\"\"\"\n",
    "\n",
    "from datetime import datetime\n",
    "\n",
    "class Event:\n",
    "    def __init__(self, name, date, time):\n",
    "        self.name = name\n",
    "        self.date = date\n",
    "        self.time = time\n",
    "    \n",
    "    def event_info(self):\n",
    "        return f\"Event: {self.name} happens on {self.date} at  {self.time} \"\n",
    "    \n",
    "\"\"\"Scheduler Class\"\"\"\n",
    "\n",
    "class Scheduler:\n",
    "    def __init__(self):\n",
    "        self.events = []\n",
    "    \n",
    "    def add_event(self, name, date, time):\n",
    "        if not self.check_conflict(date, time):\n",
    "            new_event = Event(name, date, time)\n",
    "            self.events.append(new_event)\n",
    "            print(f\"Event '{name}' added successfully.\")\n",
    "        else:\n",
    "            print(f\"Conflict: An event is already scheduled on {date} at {time}.\")\n",
    "\n",
    "    def remove_event(self, name):\n",
    "        if Event in self.events:\n",
    "            if Event.name.lower() == name.lower():\n",
    "                self.events.remove(Event)\n",
    "                print(f\"Event '{name}' removed successfully.\")\n",
    "                return\n",
    "        print(f\"Event '{name}' not found.\")\n",
    "\n",
    "    def view_events(self):\n",
    "        if not self.events:\n",
    "            return \"No events scheduled.\"\n",
    "        \n",
    "        event_list = [event.event_info() for event in sorted(self.events, key=lambda e: (e.date, e.time))]\n",
    "        return \"\\n\".join(event_list)\n",
    "\n",
    "    def check_conflict(self, date, time):\n",
    "        for event in self.events:\n",
    "            if event.date == date and event.time == time:\n",
    "                return True\n",
    "        return False\n",
    "\n",
    "scheduler = Scheduler()\n",
    "\n",
    "scheduler.add_event(\"WBS\", \"2024-10-01\", \"11:00\")\n",
    "scheduler.add_event(\"Meeting\", \"2024-10-02\", \"13:00\")\n",
    "scheduler.add_event(\"Lunch\", \"2024-10-02\", \"13:00\")\n",
    "\n"
   ]
  }
 ],
 "metadata": {
  "kernelspec": {
   "display_name": "Python 3",
   "language": "python",
   "name": "python3"
  },
  "language_info": {
   "codemirror_mode": {
    "name": "ipython",
    "version": 3
   },
   "file_extension": ".py",
   "mimetype": "text/x-python",
   "name": "python",
   "nbconvert_exporter": "python",
   "pygments_lexer": "ipython3",
   "version": "3.12.5"
  }
 },
 "nbformat": 4,
 "nbformat_minor": 2
}
