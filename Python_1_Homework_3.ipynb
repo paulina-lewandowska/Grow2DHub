{
 "cells": [
  {
   "cell_type": "code",
   "execution_count": 1,
   "metadata": {},
   "outputs": [
    {
     "name": "stdout",
     "output_type": "stream",
     "text": [
      "Global variable before modification: 100\n",
      "Global variable is: 100\n",
      "Global variable modified: 110\n",
      "Global variable after modification: 110\n"
     ]
    }
   ],
   "source": [
    "\"\"\"Write a Python script that demonstrates the difference between local and global variables. \n",
    "Define a global variable and a function that modifies it. \n",
    "Explain the output of the script.\"\"\"\n",
    "\n",
    "variable = 100\n",
    "\n",
    "def modify_variable():\n",
    "    global variable\n",
    "    print(f\"Global variable is: {variable}\")\n",
    "\n",
    "    variable += 10\n",
    "    print(f\"Global variable modified: {variable}\")\n",
    "\n",
    "print(f\"Global variable before modification: {variable}\")\n",
    "\n",
    "modify_variable()\n",
    "\n",
    "print(f\"Global variable after modification: {variable}\")"
   ]
  }
 ],
 "metadata": {
  "kernelspec": {
   "display_name": "Python 3",
   "language": "python",
   "name": "python3"
  },
  "language_info": {
   "codemirror_mode": {
    "name": "ipython",
    "version": 3
   },
   "file_extension": ".py",
   "mimetype": "text/x-python",
   "name": "python",
   "nbconvert_exporter": "python",
   "pygments_lexer": "ipython3",
   "version": "3.12.5"
  }
 },
 "nbformat": 4,
 "nbformat_minor": 2
}
