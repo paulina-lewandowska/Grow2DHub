{
 "cells": [
  {
   "cell_type": "code",
   "execution_count": 1,
   "metadata": {},
   "outputs": [],
   "source": [
    "import pandas as pd"
   ]
  },
  {
   "cell_type": "code",
   "execution_count": 5,
   "metadata": {},
   "outputs": [
    {
     "name": "stdout",
     "output_type": "stream",
     "text": [
      "         Date Product  Quantity  Price  Customer_ID\n",
      "0  2023-01-01       A        10    100          101\n",
      "1  2023-01-02       B         5    200          102\n",
      "2  2023-01-03       A         8    100          103\n",
      "3  2023-01-04       C         6    300          104\n",
      "4  2023-01-05       B         7    200          101\n"
     ]
    }
   ],
   "source": [
    "# Sample dataset 1 - Sales Data\n",
    "data_sales = {\n",
    "    \"Date\": [\"2023-01-01\", \"2023-01-02\", \"2023-01-03\", \"2023-01-04\", \"2023-01-05\"],\n",
    "    \"Product\": [\"A\", \"B\", \"A\", \"C\", \"B\"],\n",
    "    \"Quantity\": [10, 5, 8, 6, 7],\n",
    "    \"Price\": [100, 200, 100, 300, 200],\n",
    "    \"Customer_ID\": [101, 102, 103, 104, 101],\n",
    "}\n",
    "df_sales = pd.DataFrame(data_sales)\n",
    "print(df_sales)"
   ]
  },
  {
   "cell_type": "code",
   "execution_count": 11,
   "metadata": {},
   "outputs": [
    {
     "name": "stdout",
     "output_type": "stream",
     "text": [
      "    Date  Product  Quantity  Price  Customer_ID\n",
      "0  False    False     False  False        False\n",
      "1  False    False     False  False        False\n",
      "2  False    False     False  False        False\n",
      "3  False    False     False  False        False\n",
      "4  False    False     False  False        False\n"
     ]
    }
   ],
   "source": [
    "\"\"\"Task 2: Missing values\"\"\"\n",
    "\n",
    "missing_sales = df_sales.isnull()\n",
    "print(missing_sales)"
   ]
  },
  {
   "cell_type": "code",
   "execution_count": 19,
   "metadata": {},
   "outputs": [
    {
     "name": "stdout",
     "output_type": "stream",
     "text": [
      "180.0\n",
      "Date           2023-01-05\n",
      "Product                 C\n",
      "Quantity               10\n",
      "Price                 300\n",
      "Customer_ID           104\n",
      "dtype: object\n",
      "200.0\n"
     ]
    }
   ],
   "source": [
    "\"\"\"Task 3: basic summary statistics\"\"\"\n",
    "\n",
    "import statistics\n",
    "\n",
    "mean_price = df_sales['Price'].mean()\n",
    "print(mean_price)\n",
    "\n",
    "max_quantity = df_sales.max()\n",
    "print(max_quantity)\n",
    "\n",
    "median_price = df_sales['Price'].median()\n",
    "print(median_price)"
   ]
  },
  {
   "cell_type": "code",
   "execution_count": 9,
   "metadata": {},
   "outputs": [
    {
     "name": "stdout",
     "output_type": "stream",
     "text": [
      "         Date Product  Quantity  Price  Customer_ID\n",
      "0  2023-01-01       A        10    100          101\n",
      "1  2023-01-02       B         5    200          102\n",
      "2  2023-01-03       A         8    100          103\n",
      "3  2023-01-04       C         6    300          104\n",
      "4  2023-01-05       B         7    200          101\n",
      "Product\n",
      "A    18\n",
      "B    12\n",
      "C     6\n",
      "Name: Quantity, dtype: int64\n"
     ]
    }
   ],
   "source": [
    "\"\"\"Task 4: Group by a specific column (e.g., Product or Department) and calculate the sum/mean of another column.\"\"\"\n",
    "data_sales = {\n",
    "    \"Date\": [\"2023-01-01\", \"2023-01-02\", \"2023-01-03\", \"2023-01-04\", \"2023-01-05\"],\n",
    "    \"Product\": [\"A\", \"B\", \"A\", \"C\", \"B\"],\n",
    "    \"Quantity\": [10, 5, 8, 6, 7],\n",
    "    \"Price\": [100, 200, 100, 300, 200],\n",
    "    \"Customer_ID\": [101, 102, 103, 104, 101],\n",
    "}\n",
    "df_sales = pd.DataFrame(data_sales)\n",
    "print(df_sales)\n",
    "\n",
    "grouped_product = df_sales.groupby('Product')['Quantity'].sum()\n",
    "print(grouped_product)\n"
   ]
  },
  {
   "cell_type": "code",
   "execution_count": 11,
   "metadata": {},
   "outputs": [
    {
     "name": "stdout",
     "output_type": "stream",
     "text": [
      "         Date Product  Quantity  Price  Customer_ID\n",
      "1  2023-01-02       B         5    200          102\n",
      "3  2023-01-04       C         6    300          104\n",
      "4  2023-01-05       B         7    200          101\n"
     ]
    }
   ],
   "source": [
    "\"\"\"Task 5: Filter rows based on a condition (e.g., Price > 150 or Salary < 60000).\"\"\"\n",
    "\n",
    "high_price = df_sales[df_sales['Price']>=200]\n",
    "print(high_price)"
   ]
  },
  {
   "cell_type": "code",
   "execution_count": 6,
   "metadata": {},
   "outputs": [
    {
     "name": "stdout",
     "output_type": "stream",
     "text": [
      "   Employee_ID     Name Department  Salary\n",
      "0            1    Alice         HR   50000\n",
      "1            2      Bob         IT   60000\n",
      "2            3  Charlie         HR   55000\n",
      "3            4    David      Sales   70000\n",
      "4            5      Eva         IT   62000\n"
     ]
    }
   ],
   "source": [
    "# Sample dataset 2 - Employee Data\n",
    "data_employee = {\n",
    "    \"Employee_ID\": [1, 2, 3, 4, 5],\n",
    "    \"Name\": [\"Alice\", \"Bob\", \"Charlie\", \"David\", \"Eva\"],\n",
    "    \"Department\": [\"HR\", \"IT\", \"HR\", \"Sales\", \"IT\"],\n",
    "    \"Salary\": [50000, 60000, 55000, 70000, 62000],\n",
    "}\n",
    "df_employee = pd.DataFrame(data_employee)\n",
    "print(df_employee)"
   ]
  },
  {
   "cell_type": "code",
   "execution_count": 7,
   "metadata": {},
   "outputs": [
    {
     "name": "stdout",
     "output_type": "stream",
     "text": [
      "         Date         City  Temperature  Rainfall\n",
      "0  2023-09-01     New York           80       0.1\n",
      "1  2023-09-02  Los Angeles           85       0.0\n",
      "2  2023-09-03     New York           82       0.2\n",
      "3  2023-09-04      Chicago           75       0.0\n",
      "4  2023-09-05  Los Angeles           88       0.0\n"
     ]
    }
   ],
   "source": [
    "# Sample dataset 3 - Weather Data\n",
    "data_weather = {\n",
    "    \"Date\": [\"2023-09-01\", \"2023-09-02\", \"2023-09-03\", \"2023-09-04\", \"2023-09-05\"],\n",
    "    \"City\": [\"New York\", \"Los Angeles\", \"New York\", \"Chicago\", \"Los Angeles\"],\n",
    "    \"Temperature\": [80, 85, 82, 75, 88],\n",
    "    \"Rainfall\": [0.1, 0.0, 0.2, 0.0, 0.0],\n",
    "}\n",
    "df_weather = pd.DataFrame(data_weather)\n",
    "print(df_weather)"
   ]
  },
  {
   "cell_type": "code",
   "execution_count": 8,
   "metadata": {},
   "outputs": [
    {
     "name": "stdout",
     "output_type": "stream",
     "text": [
      "   Order_ID  Customer_ID  Order_Amount  Order_Date\n",
      "0      1001          101           150  2023-07-01\n",
      "1      1002          102           200  2023-07-02\n",
      "2      1003          103           175  2023-07-03\n",
      "3      1004          104           220  2023-07-04\n",
      "4      1005          105           300  2023-07-05\n"
     ]
    }
   ],
   "source": [
    "# Sample dataset 4 - Orders Data\n",
    "data_orders = {\n",
    "    \"Order_ID\": [1001, 1002, 1003, 1004, 1005],\n",
    "    \"Customer_ID\": [101, 102, 103, 104, 105],\n",
    "    \"Order_Amount\": [150, 200, 175, 220, 300],\n",
    "    \"Order_Date\": [\n",
    "        \"2023-07-01\",\n",
    "        \"2023-07-02\",\n",
    "        \"2023-07-03\",\n",
    "        \"2023-07-04\",\n",
    "        \"2023-07-05\",\n",
    "    ],\n",
    "}\n",
    "df_orders = pd.DataFrame(data_orders)\n",
    "print(df_orders)"
   ]
  },
  {
   "cell_type": "code",
   "execution_count": 9,
   "metadata": {},
   "outputs": [
    {
     "name": "stdout",
     "output_type": "stream",
     "text": [
      "      Month  Income  Expense  Profit\n",
      "0   January   10000     5000    5000\n",
      "1  February   15000     7000    8000\n",
      "2     March   20000     9000   11000\n",
      "3     April   13000     4000    9000\n",
      "4       May   18000     8000   10000\n"
     ]
    }
   ],
   "source": [
    "# Sample dataset 5 - Financial Data\n",
    "data_finance = {\n",
    "    \"Month\": [\"January\", \"February\", \"March\", \"April\", \"May\"],\n",
    "    \"Income\": [10000, 15000, 20000, 13000, 18000],\n",
    "    \"Expense\": [5000, 7000, 9000, 4000, 8000],\n",
    "    \"Profit\": [5000, 8000, 11000, 9000, 10000],\n",
    "}\n",
    "df_finance = pd.DataFrame(data_finance)\n",
    "print(df_finance)"
   ]
  }
 ],
 "metadata": {
  "kernelspec": {
   "display_name": "Python 3",
   "language": "python",
   "name": "python3"
  },
  "language_info": {
   "codemirror_mode": {
    "name": "ipython",
    "version": 3
   },
   "file_extension": ".py",
   "mimetype": "text/x-python",
   "name": "python",
   "nbconvert_exporter": "python",
   "pygments_lexer": "ipython3",
   "version": "3.12.5"
  }
 },
 "nbformat": 4,
 "nbformat_minor": 2
}
