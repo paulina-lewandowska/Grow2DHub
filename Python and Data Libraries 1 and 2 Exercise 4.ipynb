{
 "cells": [
  {
   "cell_type": "code",
   "execution_count": 6,
   "metadata": {},
   "outputs": [
    {
     "name": "stdout",
     "output_type": "stream",
     "text": [
      "Added ingredient: Bread\n",
      "Added ingredient: Butter\n",
      "Added ingredient: Cheese\n",
      "Added ingredient: Tomates\n",
      "Added recipe: Sandwich\n",
      "Recipes in the RecipeBook:\n",
      "['Sandwich']\n",
      "\n",
      "Found Recipe Information:\n",
      "Receipe for Sandwich, ingredients: ['Bread', 'Butter', 'Cheese', 'Tomates'], instructions: Cut bread, add butter, cheese and tomates.\n"
     ]
    }
   ],
   "source": [
    "\"\"\"Recipe Class\"\"\",\n",
    "\n",
    "class Recipe:\n",
    "    def __init__(self, name, instructions):\n",
    "        self.name = name\n",
    "        self.ingredients = []\n",
    "        self.instructions = instructions\n",
    "    \n",
    "    def add_ingredient(self, ingredient):\n",
    "        self.ingredients.append(ingredient)\n",
    "        print(f\"Added ingredient: {ingredient}\")\n",
    "\n",
    "    def recipe_info(self):\n",
    "        ingredients_list = \", \".join(self.ingredients) if self.ingredients else \"No ingredients added yet.\"\n",
    "        return f\"Receipe for {self.name}, ingredients: {self.ingredients}, instructions: {self.instructions}\"\n",
    "    \n",
    "\"\"\"RecipeBook Class\"\"\"\n",
    "\n",
    "class RecipeBook:\n",
    "    def __init__(self):\n",
    "        self.recipes = []\n",
    "    \n",
    "    def add_recipe(self, recipe):\n",
    "        self.recipes.append(recipe)\n",
    "        print(f\"Added recipe: {recipe.name}\")\n",
    "\n",
    "    def find_recipe(self, name):\n",
    "        for recipe in self.recipes:\n",
    "            if recipe.name.lower() == name.lower():\n",
    "                return recipe\n",
    "        print(f\"Recipe '{name}' not found.\")\n",
    "        return None\n",
    "\n",
    "    def list_recipes(self):\n",
    "        if not self.recipes:\n",
    "            print(\"No recipes in the recipe book yet.\")\n",
    "        return [recipe.name for recipe in self.recipes]\n",
    "    \n",
    "recipe_book = RecipeBook()\n",
    "\n",
    "sandwich_recipe = Recipe(\"Sandwich\", \"Cut bread, add butter, cheese and tomates.\")\n",
    "\n",
    "sandwich_recipe.add_ingredient(\"Bread\")\n",
    "sandwich_recipe.add_ingredient(\"Butter\")\n",
    "sandwich_recipe.add_ingredient(\"Cheese\")\n",
    "sandwich_recipe.add_ingredient(\"Tomates\")\n",
    "\n",
    "recipe_book.add_recipe(sandwich_recipe)\n",
    "\n",
    "print(\"Recipes in the RecipeBook:\")\n",
    "print(recipe_book.list_recipes())\n",
    "\n",
    "found_recipe = recipe_book.find_recipe(\"Sandwich\")\n",
    "if found_recipe:\n",
    "    print(\"\\nFound Recipe Information:\")\n",
    "    print(found_recipe.recipe_info())\n"
   ]
  }
 ],
 "metadata": {
  "kernelspec": {
   "display_name": "Python 3",
   "language": "python",
   "name": "python3"
  },
  "language_info": {
   "codemirror_mode": {
    "name": "ipython",
    "version": 3
   },
   "file_extension": ".py",
   "mimetype": "text/x-python",
   "name": "python",
   "nbconvert_exporter": "python",
   "pygments_lexer": "ipython3",
   "version": "3.12.5"
  }
 },
 "nbformat": 4,
 "nbformat_minor": 2
}
