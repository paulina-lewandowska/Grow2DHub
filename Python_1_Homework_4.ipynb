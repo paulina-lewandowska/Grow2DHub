{
 "cells": [
  {
   "cell_type": "code",
   "execution_count": 4,
   "metadata": {},
   "outputs": [
    {
     "name": "stdout",
     "output_type": "stream",
     "text": [
      "Result is: 16\n"
     ]
    }
   ],
   "source": [
    "\"\"\"Write code that takes a string expression (e.g., \"3 + 5 * (2 - 8)\") and returns the result of the expression. \n",
    "Use Python’s built-in eval() function and handle any potential errors.\"\"\"\n",
    "\n",
    "def string_expression(string):\n",
    "    try:\n",
    "        result = eval(string)\n",
    "        return result\n",
    "    except (SyntaxError, ValueError):\n",
    "        return \"Error: invalid expression\"\n",
    "    except (ZeroDivisionError):\n",
    "        return \"Error: Division by zero\"\n",
    "    except Exception as e:\n",
    "        return \"Error\"\n",
    "    \n",
    "\n",
    "string = \"(3 + 5) * 2\"\n",
    "result = string_expression(string)\n",
    "\n",
    "print(f\"Result is: {result}\")\n"
   ]
  }
 ],
 "metadata": {
  "kernelspec": {
   "display_name": "Python 3",
   "language": "python",
   "name": "python3"
  },
  "language_info": {
   "codemirror_mode": {
    "name": "ipython",
    "version": 3
   },
   "file_extension": ".py",
   "mimetype": "text/x-python",
   "name": "python",
   "nbconvert_exporter": "python",
   "pygments_lexer": "ipython3",
   "version": "3.12.5"
  }
 },
 "nbformat": 4,
 "nbformat_minor": 2
}
