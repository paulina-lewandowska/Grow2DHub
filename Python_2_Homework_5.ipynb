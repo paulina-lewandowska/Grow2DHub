{
 "cells": [
  {
   "cell_type": "code",
   "execution_count": 1,
   "metadata": {},
   "outputs": [
    {
     "name": "stdout",
     "output_type": "stream",
     "text": [
      "ala ma kota\n"
     ]
    }
   ],
   "source": [
    "\"\"\"Convert to Lowercase\"\"\"\n",
    "\n",
    "def to_lowercase(str):\n",
    "    return str.lower()\n",
    "\n",
    "str = 'ALA MA KOTA'\n",
    "result = to_lowercase(str)\n",
    "print(result)"
   ]
  },
  {
   "cell_type": "code",
   "execution_count": 2,
   "metadata": {},
   "outputs": [
    {
     "name": "stdout",
     "output_type": "stream",
     "text": [
      "ALA MA KOTA\n"
     ]
    }
   ],
   "source": [
    "\"\"\"Convert to Uppercase\"\"\"\n",
    "\n",
    "def to_uppercase(str):\n",
    "    return str.upper()\n",
    "\n",
    "str = 'ala ma kota'\n",
    "result = to_uppercase(str)\n",
    "print(result)"
   ]
  },
  {
   "cell_type": "code",
   "execution_count": 5,
   "metadata": {},
   "outputs": [
    {
     "name": "stdout",
     "output_type": "stream",
     "text": [
      "Ala ma kota\n"
     ]
    }
   ],
   "source": [
    "\"\"\"Text Cleaning\"\"\"\n",
    "\n",
    "import string\n",
    "\n",
    "def clean_text(s):\n",
    "    translator = str.maketrans('','', string.punctuation)\n",
    "    return s.translate(translator)\n",
    "\n",
    "s = \"Ala, ma. kota\"\n",
    "result = clean_text(s)\n",
    "print(result)"
   ]
  },
  {
   "cell_type": "code",
   "execution_count": 6,
   "metadata": {},
   "outputs": [
    {
     "name": "stdout",
     "output_type": "stream",
     "text": [
      "3\n"
     ]
    }
   ],
   "source": [
    "\"\"\"Word Count\"\"\"\n",
    "\n",
    "def word_count(str):\n",
    "    return len(str.split())\n",
    "\n",
    "str = 'Ala ma kota'\n",
    "result = word_count(str)\n",
    "print(result)"
   ]
  },
  {
   "cell_type": "code",
   "execution_count": 1,
   "metadata": {},
   "outputs": [
    {
     "name": "stdout",
     "output_type": "stream",
     "text": [
      "Ala_ma_kota\n"
     ]
    }
   ],
   "source": [
    "\"\"\"Replace Spaces with Underscores\"\"\"\n",
    "\n",
    "def replace_spaces(s):\n",
    "    return s.replace(\" \", \"_\")\n",
    "\n",
    "s = \"Ala ma kota\"\n",
    "result = replace_spaces(s)\n",
    "print(result)"
   ]
  }
 ],
 "metadata": {
  "kernelspec": {
   "display_name": "Python 3",
   "language": "python",
   "name": "python3"
  },
  "language_info": {
   "codemirror_mode": {
    "name": "ipython",
    "version": 3
   },
   "file_extension": ".py",
   "mimetype": "text/x-python",
   "name": "python",
   "nbconvert_exporter": "python",
   "pygments_lexer": "ipython3",
   "version": "3.12.5"
  }
 },
 "nbformat": 4,
 "nbformat_minor": 2
}
